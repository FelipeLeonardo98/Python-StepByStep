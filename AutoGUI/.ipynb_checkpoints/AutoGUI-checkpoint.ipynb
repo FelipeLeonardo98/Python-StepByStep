{
 "cells": [
  {
   "cell_type": "markdown",
   "metadata": {},
   "source": [
    "**AUTOMAÇÃO DE SISTEMAS E PROCESSOS COM PYTHON**\n",
    "    **Desafio:**\n",
    " Todos os dias, nosso sistema atualiza as vendas do dia anterior. O seu trabalho diário, como analista, é enviar um e-mail\n",
    " para diretoria, assim que começar a trabalhar, com faturamento e aquantidade de produtos vendidos no dia anterior.\n",
    " \n",
    " E-mail da diretoria: diretoria@gmail.com\n",
    " \n",
    " Local onte os sistema disponibiliza o relatório:\n",
    " https://drive.google.com/drive/folders/17X2PIH8Aki-OQ7qI2R2WuUlWZTft3wCz?usp=sharing\n",
    " \n",
    " Para resolver isso, vamos usar o pyautogui, uma biblioteca de automação de comandos do mouse e do teclado"
   ]
  },
  {
   "cell_type": "code",
   "execution_count": 1,
   "metadata": {},
   "outputs": [],
   "source": [
    " # importar as bibliotecas\n",
    " import pyautogui  # faz a automação do mouse e do teclado\n",
    " import time  # controla o tempo do nosso programa\n",
    " import pyperclip  # ela permite copirar e colar\n",
    " \n",
    " pyautogui.PAUSE = 1 # para o Python executar cada instrução com um intervalo de 1 segundo\n",
    " # pyautogui.alert(\"Automatização teve início, não utilize o host até a mensagem de conclusão.\")\n",
    "\n",
    "# Passo 1: Entrar no sistema (Link do Google Drive)\n",
    " pyautogui.hotkey('ctrl', 't')\n",
    " link = \"https://drive.google.com/drive/folders/17X2PIH8Aki-OQ7qI2R2WuUlWZTft3wCz?usp=sharing\"\n",
    " #copiar o link\n",
    " pyperclip.copy(link)\n",
    " # colar\n",
    " pyautogui.hotkey('ctrl', 'v')\n",
    " pyautogui.press('enter')\n",
    " # esperar um pouquinho após entrar no drive\n",
    " time.sleep(3)\n",
    "# Passo 2: Entrar na pasta \"Intenviso2_Python_Aula1\"\n",
    " pyautogui.click(899, 308, clicks=2)\n",
    "# Passo 3: Fazer o download da Base de Vendas\n",
    " pyautogui.click(330, 450, clicks=1)\n",
    " pyautogui.click(1164, 200, clicks=1)\n",
    " pyautogui.click(965, 602, clicks=1)\n",
    " time.sleep(5)"
   ]
  },
  {
   "cell_type": "code",
   "execution_count": 2,
   "metadata": {},
   "outputs": [
    {
     "data": {
      "text/plain": [
       "Point(x=965, y=602)"
      ]
     },
     "execution_count": 2,
     "metadata": {},
     "output_type": "execute_result"
    }
   ],
   "source": [
    "time.sleep(5)\n",
    "pyautogui.position()"
   ]
  },
  {
   "cell_type": "markdown",
   "metadata": {},
   "source": [
    "**Agora devemos importar e ler o arquivo que fizemos download**"
   ]
  },
  {
   "cell_type": "code",
   "execution_count": 3,
   "metadata": {},
   "outputs": [
    {
     "name": "stdout",
     "output_type": "stream",
     "text": [
      "Faturamento final: R$ 2917311\n",
      "Quantidade de produtos vendidos:  15227\n"
     ]
    }
   ],
   "source": [
    "# Passo 4: Calcular indicadores (Faturamento  Quantidade de Produtos) - PANDAS\n",
    "import pandas as pd \n",
    "df = pd.read_excel(r\"C:\\Users\\ferra\\Downloads\\Vendas - Dez.xlsx\")\n",
    "faturamento = df[\"Valor Final\"].sum()\n",
    "qtde_produtos = df[\"Quantidade\"].sum()\n",
    "print(\"Faturamento final: R$\", faturamento)\n",
    "print(\"Quantidade de produtos vendidos: \", qtde_produtos)\n"
   ]
  },
  {
   "cell_type": "code",
   "execution_count": 4,
   "metadata": {},
   "outputs": [],
   "source": [
    " #felipeferrazleonardo98+diretoria@gmail.com eduardooliveira278@gmail.com reis.izabeli@gmail.com\n"
   ]
  },
  {
   "cell_type": "code",
   "execution_count": 5,
   "metadata": {},
   "outputs": [],
   "source": [
    "# Passo 5: Entrar no meu email\n",
    "    # e-mail da diretoria: felipeferrazleonardo98+diretoria@gmail.com\n",
    "pyautogui.hotkey('ctrl', 't')\n",
    "pyautogui.write('https://mail.google.com')\n",
    "pyautogui.press('enter')\n",
    "time.sleep(4)\n",
    "# Passo 6: Escrever e-mail\n",
    "pyautogui.click(99,207, clicks=1)\n",
    "pyautogui.click(922,311, clicks=1)\n",
    "pyautogui.write('edua')\n",
    "pyautogui.press('tab')\n",
    "# pyautogui.write('felipeferrazleonardo98+diretoria@gmail.com')\n",
    "pyautogui.click(961,358, clicks=1)\n",
    "assunto = \"Relatório de vendas de ontem\"\n",
    "pyperclip.copy(assunto)\n",
    "pyautogui.hotkey('ctrl', 'v')\n",
    "mensagem= f'''\n",
    "    Bom dia, Prezada Diretoria!\n",
    "    \n",
    "    Segue as informações do relatório de ontem:\n",
    "    Faturamento Final: R$ {faturamento:,.2f}\n",
    "    Quantidade Final:  {qtde_produtos:,}\n",
    "    \n",
    "    Atenciosamente,\n",
    "    Felipe Ferraz Leonardo\n",
    "    '''\n",
    "pyautogui.click(928,472, clicks=1)\n",
    "pyperclip.copy(mensagem)\n",
    "pyautogui.hotkey('ctrl', 'v')\n",
    "pyautogui.hotkey('ctrl', 'enter')\n",
    "pyautogui.alert(\"FIM DA AUTOMATIZAÇÃO\")\n"
   ]
  },
  {
   "cell_type": "code",
   "execution_count": 6,
   "metadata": {},
   "outputs": [
    {
     "data": {
      "text/plain": [
       "Point(x=928, y=472)"
      ]
     },
     "execution_count": 6,
     "metadata": {},
     "output_type": "execute_result"
    }
   ],
   "source": [
    "time.sleep(5)\n",
    "pyautogui.position()"
   ]
  },
  {
   "cell_type": "code",
   "execution_count": null,
   "metadata": {},
   "outputs": [],
   "source": []
  }
 ],
 "metadata": {
  "kernelspec": {
   "display_name": "Python 3",
   "language": "python",
   "name": "python3"
  },
  "language_info": {
   "codemirror_mode": {
    "name": "ipython",
    "version": 3
   },
   "file_extension": ".py",
   "mimetype": "text/x-python",
   "name": "python",
   "nbconvert_exporter": "python",
   "pygments_lexer": "ipython3",
   "version": "3.8.5"
  }
 },
 "nbformat": 4,
 "nbformat_minor": 4
}
